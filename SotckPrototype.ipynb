{
 "cells": [
  {
   "cell_type": "code",
   "execution_count": 1,
   "id": "fcf7bfb7",
   "metadata": {},
   "outputs": [],
   "source": [
    "#Step1. Data Stock : Crawling Naver \"https://finance.naver.com/\"\n",
    "# - BrautifulSoup - Request - Dataframe\n",
    "#어떠한 정보를 Gathering 할 것 인가. \n",
    "# 거래량, 외인 거래량, 기관 거래량, 시가(전날 종가가 시가인데 의미가있나?), 종가 ?\n",
    "#Step2. Data Gathering : CSV, DB?\n",
    "# - \n",
    "#Step3. Model\n",
    "# - 분류를 어떻게 나눌것인가 (Classifier : 종가 상승인지 하강인지? or 5분 뒤 상승인지 하강인지?)\n",
    "# - Model : Random Forest?"
   ]
  },
  {
   "cell_type": "code",
   "execution_count": 3,
   "id": "ee67eeb3",
   "metadata": {},
   "outputs": [],
   "source": [
    "# 불필요한 경고 메시지 끄기\n",
    "import warnings\n",
    "warnings.filterwarnings('ignore')"
   ]
  },
  {
   "cell_type": "code",
   "execution_count": 5,
   "id": "0ac441d4",
   "metadata": {},
   "outputs": [],
   "source": [
    "import numpy as np\n",
    "import pandas as pd\n",
    "from matplotlib import pyplot as plt\n",
    "from matplotlib import font_manager\n",
    "import requests\n",
    "from openpyxl import Workbook\n",
    "from io import BytesIO"
   ]
  },
  {
   "cell_type": "code",
   "execution_count": 6,
   "id": "61d5ef51",
   "metadata": {},
   "outputs": [],
   "source": [
    "custom_headers = {\n",
    "    \"referer\":'https://naver.com/',\n",
    "    \"user-agent\":'Mozilla'\n",
    "}"
   ]
  },
  {
   "cell_type": "code",
   "execution_count": 7,
   "id": "730ffe89",
   "metadata": {},
   "outputs": [
    {
     "name": "stdout",
     "output_type": "stream",
     "text": [
      "종목 코드 : 323410\n",
      "수집할 페이지 수 : 100\n"
     ]
    }
   ],
   "source": [
    "wb = Workbook()\n",
    "ws = wb.active\n",
    "ws.append([\"일자\",\"종가\",\"거래량\",\"기관순매수\",\"기관순매매\",\"보유율\"])\n",
    "code = input(\"종목 코드 : \")\n",
    "max_page = input(\"수집할 페이지 수 : \")"
   ]
  },
  {
   "cell_type": "code",
   "execution_count": 8,
   "id": "325e2509",
   "metadata": {},
   "outputs": [],
   "source": [
    "if max_page:\n",
    "    max_page = int(max_page)\n",
    "else:\n",
    "    max_page = 0"
   ]
  },
  {
   "cell_type": "code",
   "execution_count": null,
   "id": "28ff6130",
   "metadata": {},
   "outputs": [],
   "source": []
  }
 ],
 "metadata": {
  "kernelspec": {
   "display_name": "Python 3 (ipykernel)",
   "language": "python",
   "name": "python3"
  },
  "language_info": {
   "codemirror_mode": {
    "name": "ipython",
    "version": 3
   },
   "file_extension": ".py",
   "mimetype": "text/x-python",
   "name": "python",
   "nbconvert_exporter": "python",
   "pygments_lexer": "ipython3",
   "version": "3.8.10"
  }
 },
 "nbformat": 4,
 "nbformat_minor": 5
}
