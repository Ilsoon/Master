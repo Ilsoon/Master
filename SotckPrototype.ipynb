{
 "cells": [
  {
   "cell_type": "code",
   "execution_count": 4,
   "id": "fcf7bfb7",
   "metadata": {},
   "outputs": [],
   "source": [
    "#Step1. Data Stock : Crawling Naver \"https://finance.naver.com/\"\n",
    "# - BrautifulSoup - Request - Dataframe\n",
    "#어떠한 정보를 Gathering 할 것 인가. \n",
    "# 거래량, 외인 거래량, 기관 거래량, 시가(전날 종가가 시가인데 의미가있나?), 종가 ?\n",
    "#Step2. Data Gathering : CSV, DB?\n",
    "# - \n",
    "#Step3. Model\n",
    "# - 분류를 어떻게 나눌것인가 (Classifier : 종가 상승인지 하강인지? or 5분 뒤 상승인지 하강인지?)\n",
    "# - Model : Random Forest?"
   ]
  },
  {
   "cell_type": "code",
   "execution_count": 5,
   "id": "ee67eeb3",
   "metadata": {},
   "outputs": [],
   "source": [
    "# 불필요한 경고 메시지 끄기\n",
    "import warnings\n",
    "warnings.filterwarnings('ignore')"
   ]
  },
  {
   "cell_type": "code",
   "execution_count": 135,
   "id": "0ac441d4",
   "metadata": {},
   "outputs": [],
   "source": [
    "import numpy as np\n",
    "import pandas as pd\n",
    "from matplotlib import pyplot as plt\n",
    "from matplotlib import font_manager\n",
    "import requests\n",
    "from openpyxl import Workbook\n",
    "from io import BytesIO\n",
    "from bs4 import BeautifulSoup\n",
    "import re"
   ]
  },
  {
   "cell_type": "code",
   "execution_count": 136,
   "id": "61d5ef51",
   "metadata": {},
   "outputs": [],
   "source": [
    "custom_headers = {\n",
    "    \"referer\":'https://naver.com/',\n",
    "    \"user-agent\":'Mozilla'\n",
    "}"
   ]
  },
  {
   "cell_type": "code",
   "execution_count": 175,
   "id": "730ffe89",
   "metadata": {},
   "outputs": [
    {
     "name": "stdout",
     "output_type": "stream",
     "text": [
      "종목 코드 : 323410\n",
      "수집할 페이지 수 : 100\n"
     ]
    }
   ],
   "source": [
    "wb = Workbook()\n",
    "ws = wb.active\n",
    "ws.append([\"일자\",\"종가\",\"거래량\",\"기관순매수\",\"기관순매매\",\"보유율\"])\n",
    "code = input(\"종목 코드 : \")\n",
    "max_page = input(\"수집할 페이지 수 : \")"
   ]
  },
  {
   "cell_type": "code",
   "execution_count": 176,
   "id": "325e2509",
   "metadata": {},
   "outputs": [],
   "source": [
    "if max_page:\n",
    "    max_page = int(max_page)\n",
    "else:\n",
    "    max_page = 0"
   ]
  },
  {
   "cell_type": "code",
   "execution_count": 177,
   "id": "46064289",
   "metadata": {},
   "outputs": [],
   "source": [
    "myPage = 1"
   ]
  },
  {
   "cell_type": "code",
   "execution_count": 178,
   "id": "c0901a29",
   "metadata": {},
   "outputs": [],
   "source": [
    "url = f\"https://finance.naver.com/item/frgn.naver?code={code}&page={myPage}\"\n",
    "res = requests.get(url, headers=custom_headers)"
   ]
  },
  {
   "cell_type": "code",
   "execution_count": 179,
   "id": "81b6316f",
   "metadata": {},
   "outputs": [],
   "source": [
    "soup = BeautifulSoup(res.text,\"lxml\")"
   ]
  },
  {
   "cell_type": "code",
   "execution_count": 180,
   "id": "99b8809a",
   "metadata": {},
   "outputs": [],
   "source": [
    "table = soup.find(\"table\", attrs={ \"class\" : \"type2\", \"summary\":})"
   ]
  },
  {
   "cell_type": "code",
   "execution_count": 181,
   "id": "06071e30",
   "metadata": {},
   "outputs": [
    {
     "data": {
      "text/plain": [
       "<table cellspacing=\"0\" class=\"type2\" summary=\"거래원정보에 관한표이며 일자별 누적 정보를 제공합니다.\">\n",
       "<caption>거래원정보</caption>\n",
       "<tbody><tr>\n",
       "<th>매도상위</th>\n",
       "<th>거래량</th>\n",
       "<th>매수상위</th>\n",
       "<th>거래량</th>\n",
       "</tr>\n",
       "<tr>\n",
       "</tr><tr><td colspan=\"4\" height=\"1\"></td></tr>\n",
       "<tr>\n",
       "<td class=\"bg01\" colspan=\"2\" height=\"4\"></td>\n",
       "<td class=\"bg02\" colspan=\"2\"></td>\n",
       "</tr>\n",
       "<tr>\n",
       "<td class=\"title bg01\"><span class=\"\">키움증권</span></td>\n",
       "<td class=\"num bg01\"><span class=\"tah p11\">144,231</span></td>\n",
       "<td class=\"title bg02\"><span class=\"red01\">UBS</span></td>\n",
       "<td class=\"num bg02\"><span class=\"tah p11 red01\">143,214</span></td>\n",
       "</tr>\n",
       "<tr>\n",
       "<td class=\"title bg01\"><span class=\"nv01\">골드만</span></td>\n",
       "<td class=\"num bg01\"><span class=\"tah p11 nv01\">92,337</span></td>\n",
       "<td class=\"title bg02\"><span class=\"red01\">에스지</span></td>\n",
       "<td class=\"num bg02\"><span class=\"tah p11 red01\">100,000</span></td>\n",
       "</tr>\n",
       "<tr>\n",
       "<td class=\"title bg01\"><span class=\"\">미래에셋증권</span></td>\n",
       "<td class=\"num bg01\"><span class=\"tah p11\">81,086</span></td>\n",
       "<td class=\"title bg02\"><span class=\"red01\">씨티그룹</span></td>\n",
       "<td class=\"num bg02\"><span class=\"tah p11 red01\">99,291</span></td>\n",
       "</tr>\n",
       "<tr>\n",
       "<td class=\"title bg01\"><span class=\"\">삼성</span></td>\n",
       "<td class=\"num bg01\"><span class=\"tah p11\">72,308</span></td>\n",
       "<td class=\"title bg02\"><span class=\"\">키움증권</span></td>\n",
       "<td class=\"num bg02\"><span class=\"tah p11\">85,696</span></td>\n",
       "</tr>\n",
       "<tr>\n",
       "<td class=\"title bg01\"><span class=\"nv01\">모건스탠리</span></td>\n",
       "<td class=\"num bg01\"><span class=\"tah p11 nv01\">69,348</span></td>\n",
       "<td class=\"title bg02\"><span class=\"\">미래에셋증권</span></td>\n",
       "<td class=\"num bg02\"><span class=\"tah p11\">64,095</span></td>\n",
       "</tr>\n",
       "<tr>\n",
       "<td class=\"bg01\" colspan=\"2\" height=\"4\"></td>\n",
       "<td class=\"bg02\" colspan=\"2\"></td>\n",
       "</tr>\n",
       "<tr><td bgcolor=\"#E1E1E1\" colspan=\"4\" height=\"1\"></td></tr>\n",
       "<tr class=\"total\">\n",
       "<td class=\"title bg01\" height=\"40\"><span>외국계추정합</span></td>\n",
       "<td class=\"num bg01\">\n",
       "<span class=\"tah p11 nv01\">197,565</span>\n",
       "</td>\n",
       "<td class=\"num3 bg02\">\n",
       "<span class=\"tah p11 red01\">178,144</span>\n",
       "</td>\n",
       "<td class=\"num bg02\">\n",
       "<span class=\"tah p11 red01\">375,709</span>\n",
       "</td>\n",
       "</tr>\n",
       "<tr><td colspan=\"4\" height=\"1\"></td></tr>\n",
       "</tbody></table>"
      ]
     },
     "execution_count": 181,
     "metadata": {},
     "output_type": "execute_result"
    }
   ],
   "source": [
    "table"
   ]
  },
  {
   "cell_type": "code",
   "execution_count": 182,
   "id": "7192f610",
   "metadata": {
    "scrolled": true
   },
   "outputs": [
    {
     "data": {
      "text/plain": [
       "'https://finance.naver.com/item/frgn.naver?code=323410&page=1'"
      ]
     },
     "execution_count": 182,
     "metadata": {},
     "output_type": "execute_result"
    }
   ],
   "source": [
    "url"
   ]
  },
  {
   "cell_type": "code",
   "execution_count": null,
   "id": "e7e09711",
   "metadata": {},
   "outputs": [],
   "source": []
  }
 ],
 "metadata": {
  "kernelspec": {
   "display_name": "Python 3 (ipykernel)",
   "language": "python",
   "name": "python3"
  },
  "language_info": {
   "codemirror_mode": {
    "name": "ipython",
    "version": 3
   },
   "file_extension": ".py",
   "mimetype": "text/x-python",
   "name": "python",
   "nbconvert_exporter": "python",
   "pygments_lexer": "ipython3",
   "version": "3.8.10"
  }
 },
 "nbformat": 4,
 "nbformat_minor": 5
}
