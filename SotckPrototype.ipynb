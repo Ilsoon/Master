{
 "cells": [
  {
   "cell_type": "code",
   "execution_count": 1,
   "id": "fcf7bfb7",
   "metadata": {},
   "outputs": [],
   "source": [
    "#Step1. Data Stock : Crawling Naver \"https://finance.naver.com/\"\n",
    "# - BrautifulSoup - Request - Dataframe\n",
    "#어떠한 정보를 Gathering 할 것 인가. \n",
    "# 거래량, 외인 거래량, 기관 거래량, 시가(전날 종가가 시가인데 의미가있나?), 종가 ?\n",
    "#Step2. Data Gathering : CSV, DB?\n",
    "# - \n",
    "#Step3. Model\n",
    "# - 분류를 어떻게 나눌것인가 (Classifier : 종가 상승인지 하강인지? or 5분 뒤 상승인지 하강인지?)\n",
    "# - Model : Random Forest?"
   ]
  },
  {
   "cell_type": "code",
   "execution_count": 2,
   "id": "ee67eeb3",
   "metadata": {},
   "outputs": [],
   "source": [
    "# 불필요한 경고 메시지 끄기\n",
    "import warnings\n",
    "warnings.filterwarnings('ignore')"
   ]
  },
  {
   "cell_type": "code",
   "execution_count": 3,
   "id": "0ac441d4",
   "metadata": {},
   "outputs": [],
   "source": [
    "import numpy as np\n",
    "import pandas as pd\n",
    "from matplotlib import pyplot as plt\n",
    "from matplotlib import font_manager\n",
    "import requests\n",
    "from openpyxl import Workbook\n",
    "from io import BytesIO\n",
    "from bs4 import BeautifulSoup\n",
    "import re"
   ]
  },
  {
   "cell_type": "code",
   "execution_count": 4,
   "id": "61d5ef51",
   "metadata": {},
   "outputs": [],
   "source": [
    "custom_headers = {\n",
    "    \"referer\":'https://naver.com/',\n",
    "    \"user-agent\":'Mozilla'\n",
    "}"
   ]
  },
  {
   "cell_type": "code",
   "execution_count": 5,
   "id": "730ffe89",
   "metadata": {},
   "outputs": [],
   "source": [
    "wb = Workbook()\n",
    "ws = wb.active\n",
    "ws.append([\"일자\",\"종가\",\"거래량\",\"기관순매수\",\"기관순매매\",\"보유율\"])\n",
    "code = \"034730\"\n",
    "max_page = 100\n",
    "\n",
    "# code = input(\"종목 코드 : \")\n",
    "# max_page = input(\"수집할 페이지 수 : \")"
   ]
  },
  {
   "cell_type": "code",
   "execution_count": 6,
   "id": "325e2509",
   "metadata": {},
   "outputs": [],
   "source": [
    "if max_page:\n",
    "    max_page = int(max_page)\n",
    "else:\n",
    "    max_page = 0"
   ]
  },
  {
   "cell_type": "code",
   "execution_count": 7,
   "id": "62145d06",
   "metadata": {},
   "outputs": [],
   "source": [
    "data = []"
   ]
  },
  {
   "cell_type": "code",
   "execution_count": 8,
   "id": "f9fad0ff",
   "metadata": {},
   "outputs": [],
   "source": [
    "for myPage in range(1,max_page):\n",
    "    url = f\"https://finance.naver.com/item/frgn.naver?code={code}&page={myPage}\"\n",
    "    res = requests.get(url, headers=custom_headers)\n",
    "    soup = BeautifulSoup(res.text,\"lxml\")\n",
    "    pageTable = soup.find(\"table\", attrs={ \"class\" : \"Nnavi\", \"summary\":\"페이지 네비게이션 리스트\"})\n",
    "    if int(pageTable.find(\"td\",attrs = {\"class\":\"on\"}).text.strip()) != myPage:\n",
    "        break\n",
    "    table = soup.find(\"table\", attrs={ \"class\" : \"type2\", \"summary\":\"외국인 기관 순매매 거래량에 관한표이며 날짜별로 정보를 제공합니다.\"})\n",
    "    for idx, dataraw in enumerate(table.findAll(\"tr\")):\n",
    "        if idx <= 2:\n",
    "            continue\n",
    "        cols = dataraw.findAll(\"td\")\n",
    "        cols = [ele.text.strip() for ele in cols]\n",
    "        data.append([ele for ele in cols if ele]) \n",
    "    "
   ]
  },
  {
   "cell_type": "code",
   "execution_count": 9,
   "id": "9b72d45e",
   "metadata": {},
   "outputs": [],
   "source": [
    "df = pd.DataFrame(data)"
   ]
  },
  {
   "cell_type": "code",
   "execution_count": 10,
   "id": "4853007a",
   "metadata": {},
   "outputs": [],
   "source": [
    "dscolumnls = [\"날짜\",\"종가\",\"전일비\",\"등락률\",\"거래량\",\"순매매량\",\"순매매-량\",\"외인보유주수\",\"외인보유율\"]"
   ]
  },
  {
   "cell_type": "code",
   "execution_count": 11,
   "id": "10c01be2",
   "metadata": {},
   "outputs": [],
   "source": [
    "df.columns = dscolumnls"
   ]
  },
  {
   "cell_type": "code",
   "execution_count": 12,
   "id": "1e3eee2e",
   "metadata": {},
   "outputs": [],
   "source": [
    "df = df.dropna()"
   ]
  },
  {
   "cell_type": "code",
   "execution_count": 13,
   "id": "a5243f0b",
   "metadata": {},
   "outputs": [],
   "source": [
    "df.to_csv('SK_StockData.csv', sep=',', na_rep='NaN')"
   ]
  },
  {
   "cell_type": "code",
   "execution_count": 14,
   "id": "9d102d80",
   "metadata": {},
   "outputs": [],
   "source": [
    "#Data Fram중에 필요한 정보를 Collection 한다 \n",
    "#Data Frame 의 모든 String 을 Int or Date 등등으로 변경한다.\n",
    "#그래프도 한번 그려보자\n",
    "#포인트도 짝어보자\n",
    "#모델은 뭐쓰지?"
   ]
  },
  {
   "cell_type": "code",
   "execution_count": 15,
   "id": "8d4db02e",
   "metadata": {},
   "outputs": [],
   "source": [
    "df['날짜'] = pd.to_datetime(df['날짜'])"
   ]
  },
  {
   "cell_type": "code",
   "execution_count": 16,
   "id": "2643e37e",
   "metadata": {},
   "outputs": [],
   "source": [
    "df.set_index('날짜', inplace=True)"
   ]
  },
  {
   "cell_type": "code",
   "execution_count": 17,
   "id": "433d8f0a",
   "metadata": {},
   "outputs": [],
   "source": [
    "dfordered = df"
   ]
  },
  {
   "cell_type": "code",
   "execution_count": 18,
   "id": "e63bf33b",
   "metadata": {},
   "outputs": [
    {
     "data": {
      "text/html": [
       "<div>\n",
       "<style scoped>\n",
       "    .dataframe tbody tr th:only-of-type {\n",
       "        vertical-align: middle;\n",
       "    }\n",
       "\n",
       "    .dataframe tbody tr th {\n",
       "        vertical-align: top;\n",
       "    }\n",
       "\n",
       "    .dataframe thead th {\n",
       "        text-align: right;\n",
       "    }\n",
       "</style>\n",
       "<table border=\"1\" class=\"dataframe\">\n",
       "  <thead>\n",
       "    <tr style=\"text-align: right;\">\n",
       "      <th></th>\n",
       "      <th>종가</th>\n",
       "      <th>전일비</th>\n",
       "      <th>등락률</th>\n",
       "      <th>거래량</th>\n",
       "      <th>순매매량</th>\n",
       "      <th>순매매-량</th>\n",
       "      <th>외인보유주수</th>\n",
       "      <th>외인보유율</th>\n",
       "    </tr>\n",
       "    <tr>\n",
       "      <th>날짜</th>\n",
       "      <th></th>\n",
       "      <th></th>\n",
       "      <th></th>\n",
       "      <th></th>\n",
       "      <th></th>\n",
       "      <th></th>\n",
       "      <th></th>\n",
       "      <th></th>\n",
       "    </tr>\n",
       "  </thead>\n",
       "  <tbody>\n",
       "    <tr>\n",
       "      <th>2022-03-16</th>\n",
       "      <td>234,500</td>\n",
       "      <td>1,000</td>\n",
       "      <td>+0.43%</td>\n",
       "      <td>111,860</td>\n",
       "      <td>-378</td>\n",
       "      <td>-11,251</td>\n",
       "      <td>15,959,044</td>\n",
       "      <td>21.52%</td>\n",
       "    </tr>\n",
       "    <tr>\n",
       "      <th>2022-03-15</th>\n",
       "      <td>233,500</td>\n",
       "      <td>4,000</td>\n",
       "      <td>-1.68%</td>\n",
       "      <td>96,304</td>\n",
       "      <td>+913</td>\n",
       "      <td>-9,504</td>\n",
       "      <td>15,970,295</td>\n",
       "      <td>21.54%</td>\n",
       "    </tr>\n",
       "    <tr>\n",
       "      <th>2022-03-14</th>\n",
       "      <td>237,500</td>\n",
       "      <td>9,500</td>\n",
       "      <td>-3.85%</td>\n",
       "      <td>156,359</td>\n",
       "      <td>+9,757</td>\n",
       "      <td>-9,996</td>\n",
       "      <td>15,966,861</td>\n",
       "      <td>21.53%</td>\n",
       "    </tr>\n",
       "    <tr>\n",
       "      <th>2022-03-11</th>\n",
       "      <td>247,000</td>\n",
       "      <td>10,500</td>\n",
       "      <td>+4.44%</td>\n",
       "      <td>304,725</td>\n",
       "      <td>+138,876</td>\n",
       "      <td>-61,186</td>\n",
       "      <td>15,952,165</td>\n",
       "      <td>21.51%</td>\n",
       "    </tr>\n",
       "    <tr>\n",
       "      <th>2022-03-10</th>\n",
       "      <td>236,500</td>\n",
       "      <td>5,500</td>\n",
       "      <td>+2.38%</td>\n",
       "      <td>197,274</td>\n",
       "      <td>+83,292</td>\n",
       "      <td>-48,073</td>\n",
       "      <td>16,029,527</td>\n",
       "      <td>21.62%</td>\n",
       "    </tr>\n",
       "    <tr>\n",
       "      <th>...</th>\n",
       "      <td>...</td>\n",
       "      <td>...</td>\n",
       "      <td>...</td>\n",
       "      <td>...</td>\n",
       "      <td>...</td>\n",
       "      <td>...</td>\n",
       "      <td>...</td>\n",
       "      <td>...</td>\n",
       "    </tr>\n",
       "    <tr>\n",
       "      <th>2014-03-03</th>\n",
       "      <td>145,000</td>\n",
       "      <td>0</td>\n",
       "      <td>0.00%</td>\n",
       "      <td>96,548</td>\n",
       "      <td>-16,464</td>\n",
       "      <td>-5,720</td>\n",
       "      <td>9,625,350</td>\n",
       "      <td>19.25%</td>\n",
       "    </tr>\n",
       "    <tr>\n",
       "      <th>2014-02-28</th>\n",
       "      <td>145,000</td>\n",
       "      <td>2,500</td>\n",
       "      <td>+1.75%</td>\n",
       "      <td>215,891</td>\n",
       "      <td>+14,791</td>\n",
       "      <td>-1,187</td>\n",
       "      <td>9,621,470</td>\n",
       "      <td>19.24%</td>\n",
       "    </tr>\n",
       "    <tr>\n",
       "      <th>2014-02-27</th>\n",
       "      <td>142,500</td>\n",
       "      <td>4,500</td>\n",
       "      <td>+3.26%</td>\n",
       "      <td>228,818</td>\n",
       "      <td>+45,341</td>\n",
       "      <td>+11,216</td>\n",
       "      <td>9,613,105</td>\n",
       "      <td>19.23%</td>\n",
       "    </tr>\n",
       "    <tr>\n",
       "      <th>2014-02-26</th>\n",
       "      <td>138,000</td>\n",
       "      <td>2,000</td>\n",
       "      <td>-1.43%</td>\n",
       "      <td>52,606</td>\n",
       "      <td>+1,683</td>\n",
       "      <td>+3,251</td>\n",
       "      <td>9,601,889</td>\n",
       "      <td>19.20%</td>\n",
       "    </tr>\n",
       "    <tr>\n",
       "      <th>2014-02-25</th>\n",
       "      <td>140,000</td>\n",
       "      <td>500</td>\n",
       "      <td>+0.36%</td>\n",
       "      <td>102,559</td>\n",
       "      <td>-462</td>\n",
       "      <td>-8,539</td>\n",
       "      <td>9,597,698</td>\n",
       "      <td>19.20%</td>\n",
       "    </tr>\n",
       "  </tbody>\n",
       "</table>\n",
       "<p>1980 rows × 8 columns</p>\n",
       "</div>"
      ],
      "text/plain": [
       "                 종가     전일비     등락률      거래량      순매매량    순매매-량      외인보유주수  \\\n",
       "날짜                                                                            \n",
       "2022-03-16  234,500   1,000  +0.43%  111,860      -378  -11,251  15,959,044   \n",
       "2022-03-15  233,500   4,000  -1.68%   96,304      +913   -9,504  15,970,295   \n",
       "2022-03-14  237,500   9,500  -3.85%  156,359    +9,757   -9,996  15,966,861   \n",
       "2022-03-11  247,000  10,500  +4.44%  304,725  +138,876  -61,186  15,952,165   \n",
       "2022-03-10  236,500   5,500  +2.38%  197,274   +83,292  -48,073  16,029,527   \n",
       "...             ...     ...     ...      ...       ...      ...         ...   \n",
       "2014-03-03  145,000       0   0.00%   96,548   -16,464   -5,720   9,625,350   \n",
       "2014-02-28  145,000   2,500  +1.75%  215,891   +14,791   -1,187   9,621,470   \n",
       "2014-02-27  142,500   4,500  +3.26%  228,818   +45,341  +11,216   9,613,105   \n",
       "2014-02-26  138,000   2,000  -1.43%   52,606    +1,683   +3,251   9,601,889   \n",
       "2014-02-25  140,000     500  +0.36%  102,559      -462   -8,539   9,597,698   \n",
       "\n",
       "             외인보유율  \n",
       "날짜                  \n",
       "2022-03-16  21.52%  \n",
       "2022-03-15  21.54%  \n",
       "2022-03-14  21.53%  \n",
       "2022-03-11  21.51%  \n",
       "2022-03-10  21.62%  \n",
       "...            ...  \n",
       "2014-03-03  19.25%  \n",
       "2014-02-28  19.24%  \n",
       "2014-02-27  19.23%  \n",
       "2014-02-26  19.20%  \n",
       "2014-02-25  19.20%  \n",
       "\n",
       "[1980 rows x 8 columns]"
      ]
     },
     "execution_count": 18,
     "metadata": {},
     "output_type": "execute_result"
    }
   ],
   "source": [
    "dfordered"
   ]
  },
  {
   "cell_type": "code",
   "execution_count": 19,
   "id": "d3e20593",
   "metadata": {},
   "outputs": [
    {
     "data": {
      "text/html": [
       "<div>\n",
       "<style scoped>\n",
       "    .dataframe tbody tr th:only-of-type {\n",
       "        vertical-align: middle;\n",
       "    }\n",
       "\n",
       "    .dataframe tbody tr th {\n",
       "        vertical-align: top;\n",
       "    }\n",
       "\n",
       "    .dataframe thead th {\n",
       "        text-align: right;\n",
       "    }\n",
       "</style>\n",
       "<table border=\"1\" class=\"dataframe\">\n",
       "  <thead>\n",
       "    <tr style=\"text-align: right;\">\n",
       "      <th></th>\n",
       "      <th>종가</th>\n",
       "      <th>전일비</th>\n",
       "      <th>등락률</th>\n",
       "      <th>거래량</th>\n",
       "      <th>순매매량</th>\n",
       "      <th>순매매-량</th>\n",
       "      <th>외인보유주수</th>\n",
       "      <th>외인보유율</th>\n",
       "    </tr>\n",
       "  </thead>\n",
       "  <tbody>\n",
       "    <tr>\n",
       "      <th>count</th>\n",
       "      <td>1980</td>\n",
       "      <td>1980</td>\n",
       "      <td>1980</td>\n",
       "      <td>1980</td>\n",
       "      <td>1980</td>\n",
       "      <td>1980</td>\n",
       "      <td>1980</td>\n",
       "      <td>1980</td>\n",
       "    </tr>\n",
       "    <tr>\n",
       "      <th>unique</th>\n",
       "      <td>346</td>\n",
       "      <td>49</td>\n",
       "      <td>707</td>\n",
       "      <td>1971</td>\n",
       "      <td>1969</td>\n",
       "      <td>1950</td>\n",
       "      <td>1980</td>\n",
       "      <td>671</td>\n",
       "    </tr>\n",
       "    <tr>\n",
       "      <th>top</th>\n",
       "      <td>270,000</td>\n",
       "      <td>1,000</td>\n",
       "      <td>0.00%</td>\n",
       "      <td>85,899</td>\n",
       "      <td>+13,894</td>\n",
       "      <td>+6,922</td>\n",
       "      <td>15,959,044</td>\n",
       "      <td>27.62%</td>\n",
       "    </tr>\n",
       "    <tr>\n",
       "      <th>freq</th>\n",
       "      <td>24</td>\n",
       "      <td>203</td>\n",
       "      <td>114</td>\n",
       "      <td>2</td>\n",
       "      <td>2</td>\n",
       "      <td>3</td>\n",
       "      <td>1</td>\n",
       "      <td>13</td>\n",
       "    </tr>\n",
       "  </tbody>\n",
       "</table>\n",
       "</div>"
      ],
      "text/plain": [
       "             종가    전일비    등락률     거래량     순매매량   순매매-량      외인보유주수   외인보유율\n",
       "count      1980   1980   1980    1980     1980    1980        1980    1980\n",
       "unique      346     49    707    1971     1969    1950        1980     671\n",
       "top     270,000  1,000  0.00%  85,899  +13,894  +6,922  15,959,044  27.62%\n",
       "freq         24    203    114       2        2       3           1      13"
      ]
     },
     "execution_count": 19,
     "metadata": {},
     "output_type": "execute_result"
    }
   ],
   "source": [
    "#df 정보 확인\n",
    "dfordered.describe()"
   ]
  },
  {
   "cell_type": "code",
   "execution_count": 20,
   "id": "de0c02d3",
   "metadata": {
    "scrolled": true
   },
   "outputs": [
    {
     "name": "stdout",
     "output_type": "stream",
     "text": [
      "<class 'pandas.core.frame.DataFrame'>\n",
      "DatetimeIndex: 1980 entries, 2022-03-16 to 2014-02-25\n",
      "Data columns (total 8 columns):\n",
      " #   Column  Non-Null Count  Dtype \n",
      "---  ------  --------------  ----- \n",
      " 0   종가      1980 non-null   object\n",
      " 1   전일비     1980 non-null   object\n",
      " 2   등락률     1980 non-null   object\n",
      " 3   거래량     1980 non-null   object\n",
      " 4   순매매량    1980 non-null   object\n",
      " 5   순매매-량   1980 non-null   object\n",
      " 6   외인보유주수  1980 non-null   object\n",
      " 7   외인보유율   1980 non-null   object\n",
      "dtypes: object(8)\n",
      "memory usage: 139.2+ KB\n"
     ]
    }
   ],
   "source": [
    "#df 누락 여부 확인, object 항목들에 data 화 필요\n",
    "#전날 대비 종가 상승인지 하락인지 확인하는 추가 Column 필요?????? 그게 맞나?\n",
    "#5,10,20,30일선 추가\n",
    "#전일비, 등락률 Column 삭제\n",
    "dfordered.info()"
   ]
  },
  {
   "cell_type": "code",
   "execution_count": 22,
   "id": "9b749241",
   "metadata": {},
   "outputs": [],
   "source": [
    "dfordered.drop([\"전일비\",\"등락률\",\"외인보유주수\"],axis=\"columns\",inplace = True)"
   ]
  },
  {
   "cell_type": "code",
   "execution_count": 23,
   "id": "c21b731b",
   "metadata": {},
   "outputs": [
    {
     "name": "stdout",
     "output_type": "stream",
     "text": [
      "<class 'pandas.core.frame.DataFrame'>\n",
      "DatetimeIndex: 1980 entries, 2022-03-16 to 2014-02-25\n",
      "Data columns (total 5 columns):\n",
      " #   Column  Non-Null Count  Dtype \n",
      "---  ------  --------------  ----- \n",
      " 0   종가      1980 non-null   object\n",
      " 1   거래량     1980 non-null   object\n",
      " 2   순매매량    1980 non-null   object\n",
      " 3   순매매-량   1980 non-null   object\n",
      " 4   외인보유율   1980 non-null   object\n",
      "dtypes: object(5)\n",
      "memory usage: 92.8+ KB\n"
     ]
    }
   ],
   "source": [
    "dfordered.info()"
   ]
  },
  {
   "cell_type": "code",
   "execution_count": 24,
   "id": "47339c60",
   "metadata": {
    "scrolled": true
   },
   "outputs": [],
   "source": [
    "dfordered[\"종가\"] = dfordered[\"종가\"].str.replace(\",\",\"\")\n",
    "dfordered[\"종가\"] = dfordered[\"종가\"].astype(float)\n",
    "dfordered[\"거래량\"] = dfordered[\"거래량\"].str.replace(\",\",\"\")\n",
    "dfordered[\"거래량\"] = dfordered[\"거래량\"].astype(float)\n",
    "dfordered[\"순매매량\"] = dfordered[\"순매매량\"].str.replace(\",\",\"\")\n",
    "dfordered[\"순매매량\"] = dfordered[\"순매매량\"].astype(float)\n",
    "dfordered[\"순매매-량\"] = dfordered[\"순매매-량\"].str.replace(\",\",\"\")\n",
    "dfordered[\"순매매-량\"] = dfordered[\"순매매-량\"].astype(float)\n",
    "dfordered[\"외인보유율\"] = dfordered[\"외인보유율\"].str.replace(\",\",\"\")\n",
    "dfordered[\"외인보유율\"] = dfordered[\"외인보유율\"].str.replace(\"%\",\"\")\n",
    "dfordered[\"외인보유율\"] = dfordered[\"외인보유율\"].astype(float)"
   ]
  },
  {
   "cell_type": "code",
   "execution_count": 26,
   "id": "d3edc31c",
   "metadata": {},
   "outputs": [
    {
     "name": "stdout",
     "output_type": "stream",
     "text": [
      "<class 'pandas.core.frame.DataFrame'>\n",
      "DatetimeIndex: 1980 entries, 2022-03-16 to 2014-02-25\n",
      "Data columns (total 5 columns):\n",
      " #   Column  Non-Null Count  Dtype  \n",
      "---  ------  --------------  -----  \n",
      " 0   종가      1980 non-null   float64\n",
      " 1   거래량     1980 non-null   float64\n",
      " 2   순매매량    1980 non-null   float64\n",
      " 3   순매매-량   1980 non-null   float64\n",
      " 4   외인보유율   1980 non-null   float64\n",
      "dtypes: float64(5)\n",
      "memory usage: 92.8 KB\n"
     ]
    }
   ],
   "source": [
    "dfordered.info()"
   ]
  },
  {
   "cell_type": "code",
   "execution_count": 27,
   "id": "39adde1a",
   "metadata": {},
   "outputs": [],
   "source": [
    "\n",
    "dfordered['MA5'] = dfordered['종가'].rolling(window=5).mean()\n",
    "# 10, 20, 30, 60\n",
    "dfordered['MA10'] = dfordered['종가'].rolling(window=10).mean()\n",
    "dfordered['MA20'] = dfordered['종가'].rolling(window=20).mean()\n",
    "dfordered['MA30'] = dfordered['종가'].rolling(window=30).mean()\n",
    "dfordered['MA60'] = dfordered['종가'].rolling(window=60).mean()"
   ]
  },
  {
   "cell_type": "code",
   "execution_count": 28,
   "id": "3fb12d2c",
   "metadata": {},
   "outputs": [
    {
     "name": "stdout",
     "output_type": "stream",
     "text": [
      "<class 'pandas.core.frame.DataFrame'>\n",
      "DatetimeIndex: 1980 entries, 2022-03-16 to 2014-02-25\n",
      "Data columns (total 10 columns):\n",
      " #   Column  Non-Null Count  Dtype  \n",
      "---  ------  --------------  -----  \n",
      " 0   종가      1980 non-null   float64\n",
      " 1   거래량     1980 non-null   float64\n",
      " 2   순매매량    1980 non-null   float64\n",
      " 3   순매매-량   1980 non-null   float64\n",
      " 4   외인보유율   1980 non-null   float64\n",
      " 5   MA5     1976 non-null   float64\n",
      " 6   MA10    1971 non-null   float64\n",
      " 7   MA20    1961 non-null   float64\n",
      " 8   MA30    1951 non-null   float64\n",
      " 9   MA60    1921 non-null   float64\n",
      "dtypes: float64(10)\n",
      "memory usage: 170.2 KB\n"
     ]
    }
   ],
   "source": [
    "dfordered.info()"
   ]
  },
  {
   "cell_type": "markdown",
   "id": "763487a4",
   "metadata": {},
   "source": [
    "chan test"
   ]
  }
 ],
 "metadata": {
  "kernelspec": {
   "display_name": "Python 3 (ipykernel)",
   "language": "python",
   "name": "python3"
  },
  "language_info": {
   "codemirror_mode": {
    "name": "ipython",
    "version": 3
   },
   "file_extension": ".py",
   "mimetype": "text/x-python",
   "name": "python",
   "nbconvert_exporter": "python",
   "pygments_lexer": "ipython3",
   "version": "3.8.10"
  }
 },
 "nbformat": 4,
 "nbformat_minor": 5
}
